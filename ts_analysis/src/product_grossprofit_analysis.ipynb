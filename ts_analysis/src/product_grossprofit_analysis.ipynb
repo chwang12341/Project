{
 "cells": [
  {
   "cell_type": "code",
   "execution_count": null,
   "metadata": {},
   "outputs": [],
   "source": [
    "import pandas as pd\n",
    "import numpy as np\n",
    "from datetime import datetime\n",
    "import matplotlib.pyplot as plt\n",
    "import seaborn as sns \n",
    "import platform\n",
    "import re\n",
    "\n",
    "sns.set(font='sans-serif')\n",
    "sns.set_style(\"whitegrid\",{\"font.sans-serif\":['Microsoft JhengHei']})"
   ]
  },
  {
   "cell_type": "code",
   "execution_count": null,
   "metadata": {},
   "outputs": [],
   "source": [
    "theOS = list(platform.uname())[0]\n",
    "if theOS == 'Windows':\n",
    "    theOS = '\\\\'\n",
    "    theEncode = 'utf-8-sig'\n",
    "else:\n",
    "    theOS = '/'\n",
    "    theEncode = 'utf-8'\n",
    "\n",
    "df = pd.read_csv('../data/ta_feng_all_months_merged.csv')\n",
    "## 時間格式轉換\n",
    "df['Date'] = pd.to_datetime(df['TRANSACTION_DT'])\n",
    "\n",
    "df"
   ]
  },
  {
   "cell_type": "markdown",
   "metadata": {},
   "source": [
    "## 計算毛利潤 Gross Profit"
   ]
  },
  {
   "cell_type": "code",
   "execution_count": null,
   "metadata": {},
   "outputs": [],
   "source": [
    "df['gross_profit'] = df['SALES_PRICE'] - df['ASSET']\n",
    "df"
   ]
  },
  {
   "cell_type": "markdown",
   "metadata": {},
   "source": [
    "## 排名: 計算每個商品總類賺了多少並找到雜貨店內賺最多的商品 "
   ]
  },
  {
   "cell_type": "code",
   "execution_count": null,
   "metadata": {},
   "outputs": [],
   "source": [
    "## 將商品種類轉成字串\n",
    "df['PRODUCT_SUBCLASS'] = df['PRODUCT_SUBCLASS'].astype(str)\n",
    "\n",
    "pdbar = df[['PRODUCT_SUBCLASS','gross_profit']].groupby(\"PRODUCT_SUBCLASS\", as_index = False)['gross_profit'].sum()\n",
    "pdbar.sort_values(by = 'gross_profit', ascending = False)\n",
    "\n",
    "\n"
   ]
  },
  {
   "cell_type": "code",
   "execution_count": null,
   "metadata": {},
   "outputs": [],
   "source": [
    "## 視覺化\n",
    "ax = sns.barplot(x=\"PRODUCT_SUBCLASS\", \n",
    "                 y=\"gross_profit\", \n",
    "                 data=pdbar\n",
    "                 ).set_title(\"產品毛利分類\")"
   ]
  },
  {
   "cell_type": "code",
   "execution_count": null,
   "metadata": {},
   "outputs": [],
   "source": [
    "## 列出前十名的商品\n",
    "pdbar_top = pdbar.sort_values(by = 'gross_profit', ascending = False)[:10]\n",
    "pdbar_top"
   ]
  },
  {
   "cell_type": "code",
   "execution_count": null,
   "metadata": {},
   "outputs": [],
   "source": [
    "## 視覺化\n",
    "f, ax= plt.subplots(figsize = (14, 10))\n",
    "ax = sns.barplot(x=\"PRODUCT_SUBCLASS\", \n",
    "                 y=\"gross_profit\", \n",
    "                 data=pdbar_top\n",
    "                 ).set_title(\"產品毛利分類\")\n"
   ]
  },
  {
   "cell_type": "markdown",
   "metadata": {},
   "source": [
    "## 加入年齡層進行分類 (列出前幾名的商品種類)"
   ]
  },
  {
   "cell_type": "code",
   "execution_count": null,
   "metadata": {},
   "outputs": [],
   "source": [
    "pdbar = df[['PRODUCT_SUBCLASS','AGE_GROUP','gross_profit']].groupby(['PRODUCT_SUBCLASS','AGE_GROUP'], as_index = False)['gross_profit'].sum()\n",
    "pdbar_top = pdbar.sort_values(by = 'gross_profit', ascending = False)[:10]\n",
    "pdbar_top"
   ]
  },
  {
   "cell_type": "code",
   "execution_count": null,
   "metadata": {},
   "outputs": [],
   "source": [
    "f, ax= plt.subplots(figsize = (14, 10))\n",
    "ax = sns.barplot(x=\"PRODUCT_SUBCLASS\", \n",
    "                 y=\"gross_profit\", \n",
    "                 hue=\"AGE_GROUP\", \n",
    "                 data=pdbar_top,\n",
    "                 estimator=np.sum\n",
    "                 ).set_title(\"毛利高地分類分類-年齡層\")"
   ]
  },
  {
   "cell_type": "markdown",
   "metadata": {},
   "source": [
    "## 計算每天的交易額"
   ]
  },
  {
   "cell_type": "code",
   "execution_count": null,
   "metadata": {},
   "outputs": [],
   "source": [
    "pdbar = df[['Date','gross_profit']].groupby('Date', as_index = False)['gross_profit'].sum()\n",
    "pdbar"
   ]
  },
  {
   "cell_type": "code",
   "execution_count": null,
   "metadata": {},
   "outputs": [],
   "source": [
    "## 轉換時間格式\n",
    "date = []\n",
    "for i in range(len(pdbar)):\n",
    "    date.append(datetime.strftime(pdbar['Date'][i], '%m-%d'))\n",
    "pdbar['Date'] = date\n",
    "pdbar"
   ]
  },
  {
   "cell_type": "markdown",
   "metadata": {},
   "source": [
    "## 觀察前30天的變化 11月1日~11月30日"
   ]
  },
  {
   "cell_type": "code",
   "execution_count": null,
   "metadata": {},
   "outputs": [],
   "source": [
    "ax = sns.factorplot(x=\"Date\", \n",
    "                    y=\"gross_profit\", \n",
    "                    estimator=np.sum,\n",
    "                    data=pdbar[:30]\n",
    "                    #kind = 'bar,swarm,violin,box'\n",
    "                    )\n",
    "ax.set_xticklabels(rotation=90)\n",
    "ax.fig.suptitle('毛利狀況（日）')\n",
    "plt.gcf().set_size_inches(15, 8)"
   ]
  },
  {
   "cell_type": "markdown",
   "metadata": {},
   "source": [
    "## 觀察每月的交易額變化"
   ]
  },
  {
   "cell_type": "code",
   "execution_count": null,
   "metadata": {},
   "outputs": [],
   "source": [
    "month = []\n",
    "for i in range(len(df)):\n",
    "    month.append(re.findall('(\\d+)',         df['TRANSACTION_DT'][i])[0])\n",
    "\n",
    "df['month'] = month"
   ]
  },
  {
   "cell_type": "code",
   "execution_count": null,
   "metadata": {},
   "outputs": [],
   "source": [
    "pdbar = df[['month','gross_profit']].groupby('month', as_index = False)['gross_profit'].sum()\n",
    "pdbar = pdbar.reindex(index = [1,2,0,3])\n",
    "pdbar"
   ]
  },
  {
   "cell_type": "code",
   "execution_count": null,
   "metadata": {},
   "outputs": [],
   "source": [
    "ax = sns.factorplot(x=\"month\", \n",
    "                    y=\"gross_profit\", \n",
    "                    estimator=np.sum,\n",
    "                    data=pdbar\n",
    "                    #kind = 'bar,swarm,violin,box'\n",
    "                    )\n",
    "ax.set_xticklabels(rotation=90)\n",
    "ax.fig.suptitle('毛利狀況（月）')\n",
    "plt.gcf().set_size_inches(15, 8)"
   ]
  },
  {
   "cell_type": "markdown",
   "metadata": {},
   "source": [
    "## 觀察最低毛利潤 12月的變化 12月1日~12月31日"
   ]
  },
  {
   "cell_type": "code",
   "execution_count": null,
   "metadata": {},
   "outputs": [],
   "source": [
    "pdbar = df[['Date','gross_profit']].groupby('Date', as_index = False)['gross_profit'].sum()\n",
    "pdbar"
   ]
  },
  {
   "cell_type": "code",
   "execution_count": null,
   "metadata": {},
   "outputs": [],
   "source": [
    "## 轉換時間格式\n",
    "date = []\n",
    "for i in range(len(pdbar)):\n",
    "    date.append(datetime.strftime(pdbar['Date'][i], '%m-%d'))\n",
    "pdbar['Date'] = date"
   ]
  },
  {
   "cell_type": "code",
   "execution_count": null,
   "metadata": {},
   "outputs": [],
   "source": [
    "ax = sns.factorplot(x=\"Date\", \n",
    "                    y=\"gross_profit\", \n",
    "                    estimator=np.sum,\n",
    "                    data=pdbar[30:61]\n",
    "                    #kind = 'bar,swarm,violin,box'\n",
    "                    )\n",
    "ax.set_xticklabels(rotation=90)\n",
    "ax.fig.suptitle('毛利狀況（日）')\n",
    "plt.gcf().set_size_inches(15, 8)"
   ]
  },
  {
   "cell_type": "markdown",
   "metadata": {},
   "source": [
    "## 根據賺取利潤最高的前五名產品 分別查看各年齡層的購買狀況"
   ]
  },
  {
   "cell_type": "markdown",
   "metadata": {},
   "source": [
    "## 過濾出利潤最高的前五名商品種類"
   ]
  },
  {
   "cell_type": "code",
   "execution_count": null,
   "metadata": {},
   "outputs": [],
   "source": [
    "profite_high_product = df[df['PRODUCT_SUBCLASS'].isin(pdbar_top['PRODUCT_SUBCLASS'].values)]\n",
    "profite_high_product "
   ]
  },
  {
   "cell_type": "code",
   "execution_count": null,
   "metadata": {},
   "outputs": [],
   "source": [
    "pdbar = profite_high_product[['PRODUCT_SUBCLASS','AGE_GROUP','gross_profit']].groupby([\"PRODUCT_SUBCLASS\",'AGE_GROUP'], as_index = False)['gross_profit'].sum()\n",
    "ax = sns.FacetGrid(pdbar, col=\"AGE_GROUP\")\n",
    "ax.map_dataframe(sns.barplot, \n",
    "                    x='PRODUCT_SUBCLASS',\n",
    "                   y=\"gross_profit\")\n",
    "ax.set_xticklabels(rotation=90)\n",
    "plt.gcf().set_size_inches(20, 10)"
   ]
  }
 ],
 "metadata": {
  "kernelspec": {
   "display_name": "Python 3",
   "language": "python",
   "name": "python3"
  },
  "language_info": {
   "codemirror_mode": {
    "name": "ipython",
    "version": 3
   },
   "file_extension": ".py",
   "mimetype": "text/x-python",
   "name": "python",
   "nbconvert_exporter": "python",
   "pygments_lexer": "ipython3",
   "version": "3.7.6"
  }
 },
 "nbformat": 4,
 "nbformat_minor": 4
}
