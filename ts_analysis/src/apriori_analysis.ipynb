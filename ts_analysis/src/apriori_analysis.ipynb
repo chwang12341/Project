{
 "cells": [
  {
   "cell_type": "markdown",
   "metadata": {},
   "source": [
    "## 關聯性分析 - 購物籃分析\n",
    "\n",
    "#### Support 支持度: 表示這個購買組合，在整個樣本中出現的機率\n",
    "#### Confidence 信心度: 買A產品又買B產品的機率\n",
    "#### Lift 提升度: 兩項商品之間的關聯性\n",
    "+ 正相關: lift > 1 - 兩項商品是有關聯性的\n",
    "+ 負相關: lift < 1 - 兩項商品呈現負相關性\n",
    "+ 不相關: lift = 1 - 兩項商品沒有相關性\n",
    "\n",
    "Lift與Confidence要一起看，要先檢視兩項商品是正相關，才會用Confidence去找買下一個產品的機率"
   ]
  },
  {
   "cell_type": "code",
   "execution_count": null,
   "metadata": {},
   "outputs": [],
   "source": [
    "import pandas as pd\n",
    "from apyori import apriori\n",
    "from tqdm import tqdm\n",
    "import platform"
   ]
  },
  {
   "cell_type": "code",
   "execution_count": null,
   "metadata": {},
   "outputs": [],
   "source": [
    "theOS = list(platform.uname())[0]\n",
    "if theOS == 'Windows':\n",
    "    theOS = '\\\\'\n",
    "    theEncode = 'utf-8-sig'\n",
    "else:\n",
    "    theOS = '/'\n",
    "    theEncode = 'utf-8'\n",
    "\n",
    "df = pd.read_csv('../data/ta_feng_all_months_merged.csv')\n",
    "df"
   ]
  },
  {
   "cell_type": "markdown",
   "metadata": {},
   "source": [
    "## 將當天同一個顧客購買的商品視為一個訂單 並創建訂單編號"
   ]
  },
  {
   "cell_type": "code",
   "execution_count": null,
   "metadata": {},
   "outputs": [],
   "source": [
    "## 日期 + Customer ID\n",
    "df['orderID'] = df['CUSTOMER_ID'].astype(str) + df['TRANSACTION_DT']\n",
    "df"
   ]
  },
  {
   "cell_type": "code",
   "execution_count": null,
   "metadata": {},
   "outputs": [],
   "source": [
    "record=[]\n",
    "for i in tqdm(df['orderID'].value_counts().index):\n",
    "    member = df[df['orderID']==i]\n",
    "    record.append(member['PRODUCT_SUBCLASS'].values.tolist()) "
   ]
  },
  {
   "cell_type": "code",
   "execution_count": null,
   "metadata": {},
   "outputs": [],
   "source": [
    "record"
   ]
  },
  {
   "cell_type": "markdown",
   "metadata": {},
   "source": [
    "## 計算出所有最小信心水準有2%且最小正相關要大於1的商品組合"
   ]
  },
  {
   "cell_type": "code",
   "execution_count": null,
   "metadata": {},
   "outputs": [],
   "source": [
    "association_rules = apriori(record, min_support = 0.02, min_lift = 1.00000001)\n",
    "association_results = list(association_rules)"
   ]
  },
  {
   "cell_type": "code",
   "execution_count": null,
   "metadata": {},
   "outputs": [],
   "source": [
    "association_results"
   ]
  },
  {
   "cell_type": "code",
   "execution_count": null,
   "metadata": {},
   "outputs": [],
   "source": [
    "## 支持度\n",
    "association_results[0][1]"
   ]
  },
  {
   "cell_type": "markdown",
   "metadata": {},
   "source": [
    "## 計算出所有最小信心水準有1%且最小正相關要大於1的商品組合"
   ]
  },
  {
   "cell_type": "code",
   "execution_count": null,
   "metadata": {},
   "outputs": [],
   "source": [
    "association_rules = apriori(record, min_support = 0.01, min_lift = 1.00000001)\n",
    "association_results = list(association_rules)"
   ]
  },
  {
   "cell_type": "code",
   "execution_count": null,
   "metadata": {},
   "outputs": [],
   "source": [
    "association_results"
   ]
  },
  {
   "cell_type": "markdown",
   "metadata": {},
   "source": [
    "## 針對我們的常貴客進行關聯性分析"
   ]
  },
  {
   "cell_type": "code",
   "execution_count": null,
   "metadata": {},
   "outputs": [],
   "source": [
    "## 找出所有常貴客的CUSTOMER ID\n",
    "target_date = pd.read_csv('purchase_list.csv')\n",
    "ta_list = target_date[target_date['customer'] == '常貴客']['CUSTOMER_ID'].unique()"
   ]
  },
  {
   "cell_type": "code",
   "execution_count": null,
   "metadata": {},
   "outputs": [],
   "source": [
    "## 過濾出所有常貴客的資料\n",
    "new_df = df[df['CUSTOMER_ID'].isin(ta_list)]\n",
    "new_df\n",
    "\n",
    "## 日期 + Customer ID\n",
    "new_df['orderID'] = new_df['CUSTOMER_ID'].astype(str) + new_df['TRANSACTION_DT']\n",
    "new_df"
   ]
  },
  {
   "cell_type": "code",
   "execution_count": null,
   "metadata": {},
   "outputs": [],
   "source": [
    "record=[]\n",
    "for i in tqdm(new_df['orderID'].value_counts().index):\n",
    "    member = new_df[new_df['orderID']==i]\n",
    "    record.append(member['PRODUCT_SUBCLASS'].values.tolist()) "
   ]
  },
  {
   "cell_type": "code",
   "execution_count": null,
   "metadata": {},
   "outputs": [],
   "source": [
    "association_rules = apriori(record, min_support = 0.02, min_lift = 1.00000001)\n",
    "association_results = list(association_rules)"
   ]
  },
  {
   "cell_type": "code",
   "execution_count": null,
   "metadata": {},
   "outputs": [],
   "source": [
    "association_results"
   ]
  }
 ],
 "metadata": {
  "kernelspec": {
   "display_name": "Python 3",
   "language": "python",
   "name": "python3"
  },
  "language_info": {
   "codemirror_mode": {
    "name": "ipython",
    "version": 3
   },
   "file_extension": ".py",
   "mimetype": "text/x-python",
   "name": "python",
   "nbconvert_exporter": "python",
   "pygments_lexer": "ipython3",
   "version": "3.7.6"
  }
 },
 "nbformat": 4,
 "nbformat_minor": 4
}
