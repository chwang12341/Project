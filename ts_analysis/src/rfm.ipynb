{
 "cells": [
  {
   "cell_type": "code",
   "execution_count": null,
   "metadata": {},
   "outputs": [],
   "source": [
    "import pandas as pd\n",
    "import numpy as np\n",
    "from datetime import datetime\n",
    "import platform\n",
    "import seaborn as sns"
   ]
  },
  {
   "cell_type": "markdown",
   "metadata": {},
   "source": [
    "## 導入數據集"
   ]
  },
  {
   "cell_type": "code",
   "execution_count": null,
   "metadata": {
    "scrolled": true
   },
   "outputs": [],
   "source": [
    "theOS = list(platform.uname())[0]\n",
    "if theOS == 'Windows':\n",
    "    theOS = '\\\\'\n",
    "    theEncode = 'utf-8-sig'\n",
    "else:\n",
    "    theOS = '/'\n",
    "    theEncode = 'utf-8'\n",
    "\n",
    "df = pd.read_csv('../data/ta_feng_all_months_merged.csv')\n",
    "df"
   ]
  },
  {
   "cell_type": "markdown",
   "metadata": {},
   "source": [
    "## 數據整理"
   ]
  },
  {
   "cell_type": "code",
   "execution_count": null,
   "metadata": {},
   "outputs": [],
   "source": [
    "## 時間格式轉換\n",
    "df['Date'] = pd.to_datetime(df['TRANSACTION_DT'])\n",
    "## 增加一筆用來計算頻率的欄位\n",
    "df['count'] = 1\n",
    "## 創建訂單ID\n",
    "df['ORDER_ID'] = df.index"
   ]
  },
  {
   "cell_type": "markdown",
   "metadata": {},
   "source": [
    "## 挑出商品購買頻率前五名的產品種類"
   ]
  },
  {
   "cell_type": "code",
   "execution_count": null,
   "metadata": {},
   "outputs": [],
   "source": [
    "product_five = df.groupby('PRODUCT_SUBCLASS')['count'].sum().sort_values(ascending = False)[:5]\n",
    "product_five"
   ]
  },
  {
   "cell_type": "markdown",
   "metadata": {},
   "source": [
    "## 過濾數據集：進留下這五項明星商品種類"
   ]
  },
  {
   "cell_type": "code",
   "execution_count": null,
   "metadata": {
    "scrolled": true
   },
   "outputs": [],
   "source": [
    "new_df = df[df['PRODUCT_SUBCLASS'].isin(product_five.index)]\n",
    "new_df"
   ]
  },
  {
   "cell_type": "markdown",
   "metadata": {},
   "source": [
    "## 購買頻率計算 Frequency"
   ]
  },
  {
   "cell_type": "markdown",
   "metadata": {},
   "source": [
    "#### 生成每個商品在每個訂單的購買概況"
   ]
  },
  {
   "cell_type": "code",
   "execution_count": null,
   "metadata": {},
   "outputs": [],
   "source": [
    "purchase_list = new_df.pivot_table(index = ['CUSTOMER_ID', 'ORDER_ID', 'PIN_CODE', 'Date', 'AGE_GROUP'],\n",
    "                                    columns='PRODUCT_SUBCLASS',\n",
    "                                    aggfunc=sum,\n",
    "                                    values='AMOUNT'\n",
    "                                    ).fillna(0).reset_index()\n",
    "purchase_list"
   ]
  },
  {
   "cell_type": "markdown",
   "metadata": {},
   "source": [
    "#### 計算每個消費者在一定期間內購買該商品的次數"
   ]
  },
  {
   "cell_type": "code",
   "execution_count": null,
   "metadata": {},
   "outputs": [],
   "source": [
    "purchase_list['frequency'] = 1\n",
    "\n",
    "frequency = purchase_list.groupby(\"CUSTOMER_ID\",\n",
    "as_index= False)['frequency'].sum()\n",
    "\n",
    "del purchase_list['frequency']\n",
    "frequency"
   ]
  },
  {
   "cell_type": "markdown",
   "metadata": {},
   "source": [
    "## 最近一次消費計算 Recency"
   ]
  },
  {
   "cell_type": "code",
   "execution_count": null,
   "metadata": {},
   "outputs": [],
   "source": [
    "# 設定今天的日期為最近一位顧客購買的日期,從那天來看過往的銷售狀況\n",
    "theToday = new_df['Date'].max()\n",
    "# 找出每個顧客最近一次的購買日期\n",
    "recent_recency = purchase_list.groupby(\"CUSTOMER_ID\", as_index = False)['Date'].max()\n",
    "# 計算消費者至今再次購買與上次購買產品的時間差\n",
    "recent_recency['recency'] =( theToday - recent_recency['Date'] ).astype(str)\n",
    "recent_recency"
   ]
  },
  {
   "cell_type": "code",
   "execution_count": null,
   "metadata": {},
   "outputs": [],
   "source": [
    "# 将'recency'欄位中的days去除\n",
    "recent_recency['recency'] = recent_recency['recency'].str.replace('days.*',\n",
    "                                                                  '',\n",
    "                                                                  regex = True)\n",
    "recent_recency"
   ]
  },
  {
   "cell_type": "markdown",
   "metadata": {},
   "source": [
    "## 合併 Frequency 跟 Recency "
   ]
  },
  {
   "cell_type": "code",
   "execution_count": null,
   "metadata": {
    "scrolled": true
   },
   "outputs": [],
   "source": [
    "# 合併recency\n",
    "recent_recency['recency'] = recent_recency['recency'].astype(int)\n",
    "purchase_list = recent_recency.merge(purchase_list, on = ['CUSTOMER_ID', 'Date'] ,how='inner')\n",
    "\n",
    "# 合併 frequency\n",
    "\n",
    "purchase_list = purchase_list.merge(frequency,\n",
    "                                    on = ['CUSTOMER_ID'], \n",
    "                                    how='inner')\n",
    "purchase_list"
   ]
  },
  {
   "cell_type": "markdown",
   "metadata": {},
   "source": [
    "## 檢查 Frequency跟Recency獨有的數值，來決定區間"
   ]
  },
  {
   "cell_type": "code",
   "execution_count": null,
   "metadata": {
    "scrolled": true
   },
   "outputs": [],
   "source": [
    "print(purchase_list['recency'].unique())\n",
    "print(purchase_list['frequency'].unique())"
   ]
  },
  {
   "cell_type": "markdown",
   "metadata": {},
   "source": [
    "## 定義Recency區間\n",
    "\n",
    "這邊我將近期購買天數劃成六個區間: '0-14天', '16-31天', '32-46天', '47-51天', '52- 66天', '大於66天'"
   ]
  },
  {
   "cell_type": "code",
   "execution_count": null,
   "metadata": {
    "scrolled": true
   },
   "outputs": [],
   "source": [
    "recency_label =  ['0-14 day', '16-31 day', '32-46 day', '47-51 day', '52- 66day', '>66 day']\n",
    "recency_cut  = [-1, 14, 31, 46, 51, 66, purchase_list['recency'].max()]\n",
    "purchase_list['recency_cate'] = pd.cut( \n",
    "        purchase_list['recency'],\n",
    "        recency_cut,\n",
    "        labels =recency_label)\n",
    "purchase_list"
   ]
  },
  {
   "cell_type": "markdown",
   "metadata": {},
   "source": [
    "## 定義Frequency區間\n",
    "\n",
    "這邊我將每個顧客在四個月期間內購買該商品的數量劃分成六個區間:['0到10個', '11到20個', '21到30個', '31到40個', '41到50個', '大於50個']"
   ]
  },
  {
   "cell_type": "code",
   "execution_count": null,
   "metadata": {
    "scrolled": true
   },
   "outputs": [],
   "source": [
    "frequency_label =  ['0~10 freq', '11~20 freq', '21~30 freq', '31~40 freq', '41~50 freq', '>50 freq']\n",
    "frequency_cut  = [0, 10, 20, 30, 40, 50, purchase_list['frequency'].max()]\n",
    "purchase_list['frequency_cate'] = pd.cut( \n",
    "        purchase_list['frequency'] , #目標欄位\n",
    "        frequency_cut,  #切割條件\n",
    "        labels =frequency_label) #切割後的分類內容\n",
    "purchase_list"
   ]
  },
  {
   "cell_type": "markdown",
   "metadata": {},
   "source": [
    "## RFM 交叉分析"
   ]
  },
  {
   "cell_type": "code",
   "execution_count": null,
   "metadata": {},
   "outputs": [],
   "source": [
    "RF_table = pd.crosstab(purchase_list['frequency_cate'].astype(str),\n",
    "                       purchase_list['recency_cate'].astype(str))\n",
    "# 重新排序\n",
    "RF_table['freq'] = RF_table.index\n",
    "RF_table = RF_table.sort_values('freq',ascending = False)\n",
    "\n",
    "collist = ['freq'] + recency_label\n",
    "RF_table = RF_table[collist]\n",
    "\n",
    "RF_table"
   ]
  },
  {
   "cell_type": "markdown",
   "metadata": {},
   "source": [
    "## 定義客群\n",
    "\n",
    "我將使用Frequency(購買數量)和Recency(近期購買天數)當條件來區分客群\n",
    "\n",
    "1. Frequency(購買數量)大於40次且Recency(近期購買天數)小於46天的客群: 常貴客\n",
    "2. Frequency(購買數量)大於40次且Recency(近期購買天數)大於46天的客群: 沉睡客\n",
    "3. Frequency(購買數量)小於40次且Recency(近期購買天數)大於46天的客群: 流失客\n",
    "4. 其他則為新顧客"
   ]
  },
  {
   "cell_type": "code",
   "execution_count": null,
   "metadata": {},
   "outputs": [],
   "source": [
    "purchase_list['customer'] = np.where( (purchase_list['frequency'] >=frequency_cut[4]) & (purchase_list['recency']<=recency_cut[3]), '常貴客',\n",
    "   \n",
    "                            np.where( (purchase_list['frequency'] >=frequency_cut[4]) & ( purchase_list['recency']>recency_cut[3]), '沉睡客',\n",
    "                              \n",
    "                            np.where( (purchase_list['frequency'] < frequency_cut[4]) & ( purchase_list['recency']>recency_cut[3]), '流失客',\n",
    "                                       \n",
    "                                       '新顧客'  )))\n",
    "purchase_list"
   ]
  },
  {
   "cell_type": "code",
   "execution_count": null,
   "metadata": {},
   "outputs": [],
   "source": [
    "## 保存檔案\n",
    "purchase_list.to_csv('purchase_list.csv', encoding=theEncode)"
   ]
  },
  {
   "cell_type": "markdown",
   "metadata": {},
   "source": [
    "## 畫出RFM圖"
   ]
  },
  {
   "cell_type": "code",
   "execution_count": null,
   "metadata": {},
   "outputs": [],
   "source": [
    "theOS = list(platform.uname())[0]\n",
    "if theOS == 'Windows':\n",
    "    theOS = '\\\\'\n",
    "    theEncode = 'utf-8-sig'\n",
    "else:\n",
    "    theOS = '/'\n",
    "    theEncode = 'utf-8'\n",
    "\n",
    "purchase_list = pd.read_csv('purchase_list.csv')\n",
    "purchase_list = purchase_list.drop(columns=['Unnamed: 0'])\n",
    "purchase_list"
   ]
  },
  {
   "cell_type": "code",
   "execution_count": null,
   "metadata": {},
   "outputs": [],
   "source": [
    "## 定義x, y軸標籤\n",
    "recency_label = ['0-14 day', '16-31 day', '32-46 day', '47-51 day', '52- 66day', '>66 day']\n",
    "frequency_label = ['0~10 freq', '11~20 freq', '21~30 freq', '31~40 freq', '41~50 freq', '>50 freq']"
   ]
  },
  {
   "cell_type": "markdown",
   "metadata": {},
   "source": [
    "## 商品種類: 100205 來畫RFM"
   ]
  },
  {
   "cell_type": "code",
   "execution_count": null,
   "metadata": {},
   "outputs": [],
   "source": [
    "fig, axes = plt.subplots(6, 6,figsize=(25,15))\n",
    "countX = 0 # 畫布X軸座標\n",
    "\n",
    "for i in frequency_label[::-1]: # 由於axes畫布排列的關係，頻率必須要反著放\n",
    "    countY = 0 # 畫布Y軸座標\n",
    "    for j in recency_label: # 近因\n",
    "        data = purchase_list[(purchase_list['recency_cate']==j) & (purchase_list['frequency_cate']==i)]\n",
    "        if data.shape[0] != 0: # 檢查這個方格有沒有數據\n",
    "            # 以下為單一小圖表的設定\n",
    "            sns.barplot(y=\"100205\", # 小圖表Y資料來源欄位\n",
    "                        data=data, #來源資料表\n",
    "                        estimator=np.sum,\n",
    "                        capsize=.2, # 最高點最低點的大小\n",
    "                        ax=axes[countX, countY]) # 小圖表座標\n",
    "        ################ 畫X標籤 ################\n",
    "        if i == '0~10 freq':\n",
    "            axes[countX][countY].set_xlabel(j, fontsize=17)\n",
    "            \n",
    "        ############### 畫Y標籤 ################\n",
    "        if j == '0-14 day':\n",
    "            axes[countX][countY].set_ylabel( frequency_label[::-1][countX], fontsize=17)\n",
    "        else:\n",
    "            axes[countX][countY].set_ylabel('')\n",
    "            \n",
    "        countY += 1 \n",
    "    countX += 1 \n",
    "fig.suptitle('RFM圖 - 100205', position=(.5,1), fontsize=35) # 設定標題\n",
    "fig.text(0.5, 0.01, '光顧天數', ha='center', va='center', fontsize=20) # 設定X軸標題\n",
    "fig.text(0.01, 0.5, '購買頻率', ha='center', va='center', rotation='vertical', fontsize=20) # 設定Y軸標題\n",
    "fig.show()"
   ]
  },
  {
   "cell_type": "markdown",
   "metadata": {},
   "source": [
    "## 進一步區分顧客群\n",
    "\n",
    "1.綠色: 常貴客\n",
    "2.藍色: 新顧客\n",
    "3.黃色: 沉睡客\n",
    "4.紅色: 流失客"
   ]
  },
  {
   "cell_type": "code",
   "execution_count": null,
   "metadata": {},
   "outputs": [],
   "source": [
    "target_product = '100205'\n",
    "# findbig=0\n",
    "# for i in frequency_label:\n",
    "#     for j in recency_label:\n",
    "#         data = purchase_list[(purchase_list['recency_cate']==j) & (purchase_list['frequency_cate']==i)]\n",
    "#         if data[target_product].sum() > findbig:\n",
    "#             findbig = data[target_product].sum()\n",
    "\n",
    "\n",
    "#--- 繪圖\n",
    "#先設定畫布大小\n",
    "fig, axes = plt.subplots(6, 6,figsize=(25,15))\n",
    "countX = 0 # 畫布X軸座標\n",
    "for i in frequency_label[::-1]: # 由於axes畫布排列的關係，頻率必須要反著放\n",
    "    countY = 0 # 畫布Y軸座標\n",
    "    for j in recency_label: # 近因\n",
    "        data = purchase_list[(purchase_list['recency_cate']==j) & (purchase_list['frequency_cate']==i)]\n",
    "        if data.shape[0] != 0: # 檢查這個方格有沒有數據\n",
    "            # 以下為單一小圖表的設定\n",
    "            sns.barplot(y=target_product, # 小圖表Y資料來源欄位\n",
    "                        data=data, #來源資料表\n",
    "                        estimator=np.sum,\n",
    "                        capsize=.2, # 最高點最低點的大小\n",
    "                        ax=axes[countX, countY]) # 小圖表座標\n",
    "\n",
    "        ############### 四個區塊分顏色 ################\n",
    "        if countY > 2 and countX > 2:\n",
    "            axes[countX][countY].set(facecolor=\"#ffcdd2\") #紅色\n",
    "        elif countY > 2 and countX < 3:\n",
    "            axes[countX][countY].set(facecolor=\"#FFF9C4\") #黃色\n",
    "        elif countY < 3 and countX > 2:\n",
    "            axes[countX][countY].set(facecolor=\"#BBDEFB\") #藍色\n",
    "        else:\n",
    "            axes[countX][countY].set(facecolor=\"#B2DFDB\") #綠色\n",
    "            \n",
    "        countY += 1 \n",
    "    countX += 1 \n",
    "fig.suptitle('RFM圖 - '+target_product, position=(.5,1), fontsize=35) # 設定標題\n",
    "fig.text(0.5, 0.01, '光顧天數', ha='center', va='center', fontsize=20) # 設定X軸標題\n",
    "fig.text(0.01, 0.5, '購買頻率', ha='center', va='center', rotation='vertical', fontsize=20) # 設定Y軸標題\n",
    "fig.show()"
   ]
  },
  {
   "cell_type": "markdown",
   "metadata": {},
   "source": [
    "## 商品種類: 110401 來畫RFM"
   ]
  },
  {
   "cell_type": "code",
   "execution_count": null,
   "metadata": {},
   "outputs": [],
   "source": [
    "fig, axes = plt.subplots(6, 6,figsize=(25,15))\n",
    "countX = 0 # 畫布X軸座標\n",
    "\n",
    "for i in frequency_label[::-1]: # 由於axes畫布排列的關係，頻率必須要反著放\n",
    "    countY = 0 # 畫布Y軸座標\n",
    "    for j in recency_label: # 近因\n",
    "        data = purchase_list[(purchase_list['recency_cate']==j) & (purchase_list['frequency_cate']==i)]\n",
    "        if data.shape[0] != 0: # 檢查這個方格有沒有數據\n",
    "            # 以下為單一小圖表的設定\n",
    "            sns.barplot(y=\"110401\", # 小圖表Y資料來源欄位\n",
    "                        data=data, #來源資料表\n",
    "                        estimator=np.sum,\n",
    "                        capsize=.2, # 最高點最低點的大小\n",
    "                        ax=axes[countX, countY]) # 小圖表座標\n",
    "        ################ 畫X標籤 ################\n",
    "        if i == '0~10 freq':\n",
    "            axes[countX][countY].set_xlabel(j, fontsize=17)\n",
    "            \n",
    "        ############### 畫Y標籤 ################\n",
    "        if j == '0-14 day':\n",
    "            axes[countX][countY].set_ylabel( frequency_label[::-1][countX], fontsize=17)\n",
    "        else:\n",
    "            axes[countX][countY].set_ylabel('')\n",
    "            \n",
    "        countY += 1 \n",
    "    countX += 1 \n",
    "fig.suptitle('RFM圖 - 110401', position=(.5,1), fontsize=35) # 設定標題\n",
    "fig.text(0.5, 0.01, '光顧天數', ha='center', va='center', fontsize=20) # 設定X軸標題\n",
    "fig.text(0.01, 0.5, '購買頻率', ha='center', va='center', rotation='vertical', fontsize=20) # 設定Y軸標題\n",
    "fig.show()"
   ]
  },
  {
   "cell_type": "code",
   "execution_count": null,
   "metadata": {},
   "outputs": [],
   "source": [
    "target_product = '110401'\n",
    "\n",
    "#--- 繪圖\n",
    "#先設定畫布大小\n",
    "fig, axes = plt.subplots(6, 6,figsize=(25,15))\n",
    "countX = 0 # 畫布X軸座標\n",
    "for i in frequency_label[::-1]: # 由於axes畫布排列的關係，頻率必須要反著放\n",
    "    countY = 0 # 畫布Y軸座標\n",
    "    for j in recency_label: # 近因\n",
    "        data = purchase_list[(purchase_list['recency_cate']==j) & (purchase_list['frequency_cate']==i)]\n",
    "        if data.shape[0] != 0: # 檢查這個方格有沒有數據\n",
    "            # 以下為單一小圖表的設定\n",
    "            sns.barplot(y=target_product, # 小圖表Y資料來源欄位\n",
    "                        data=data, #來源資料表\n",
    "                        estimator=np.sum,\n",
    "                        capsize=.2, # 最高點最低點的大小\n",
    "                        ax=axes[countX, countY]) # 小圖表座標\n",
    "\n",
    "        ############### 四個區塊分顏色 ################\n",
    "        if countY > 2 and countX > 2:\n",
    "            axes[countX][countY].set(facecolor=\"#ffcdd2\") #紅色\n",
    "        elif countY > 2 and countX < 3:\n",
    "            axes[countX][countY].set(facecolor=\"#FFF9C4\") #黃色\n",
    "        elif countY < 3 and countX > 2:\n",
    "            axes[countX][countY].set(facecolor=\"#BBDEFB\") #藍色\n",
    "        else:\n",
    "            axes[countX][countY].set(facecolor=\"#B2DFDB\") #綠色\n",
    "            \n",
    "        countY += 1 \n",
    "    countX += 1 \n",
    "fig.suptitle('RFM圖 - '+target_product, position=(.5,1), fontsize=35)\n",
    "fig.text(0.5, 0.01, '光顧天數', ha='center', va='center', fontsize=20)\n",
    "fig.text(0.01, 0.5, '購買頻率', ha='center', va='center', rotation='vertical', fontsize=20)\n",
    "fig.show()"
   ]
  },
  {
   "cell_type": "markdown",
   "metadata": {},
   "source": [
    "## 商品種類: 110411 來畫RFM"
   ]
  },
  {
   "cell_type": "code",
   "execution_count": null,
   "metadata": {},
   "outputs": [],
   "source": [
    "fig, axes = plt.subplots(6, 6,figsize=(25,15))\n",
    "countX = 0 # 畫布X軸座標\n",
    "\n",
    "for i in frequency_label[::-1]: # 由於axes畫布排列的關係，頻率必須要反著放\n",
    "    countY = 0 # 畫布Y軸座標\n",
    "    for j in recency_label: # 近因\n",
    "        data = purchase_list[(purchase_list['recency_cate']==j) & (purchase_list['frequency_cate']==i)]\n",
    "        if data.shape[0] != 0: # 檢查這個方格有沒有數據\n",
    "            # 以下為單一小圖表的設定\n",
    "            sns.barplot(y=\"110411\", # 小圖表Y資料來源欄位\n",
    "                        data=data, #來源資料表\n",
    "                        estimator=np.sum,\n",
    "                        capsize=.2, # 最高點最低點的大小\n",
    "                        ax=axes[countX, countY]) # 小圖表座標\n",
    "        ################ 畫X標籤 ################\n",
    "        if i == '0~10 freq':\n",
    "            axes[countX][countY].set_xlabel(j, fontsize=17)\n",
    "            \n",
    "        ############### 畫Y標籤 ################\n",
    "        if j == '0-14 day':\n",
    "            axes[countX][countY].set_ylabel( frequency_label[::-1][countX], fontsize=17)\n",
    "        else:\n",
    "            axes[countX][countY].set_ylabel('')\n",
    "            \n",
    "        countY += 1 \n",
    "    countX += 1 \n",
    "fig.suptitle('RFM圖 - 110411', position=(.5,1), fontsize=35) # 設定標題\n",
    "fig.text(0.5, 0.01, '光顧天數', ha='center', va='center', fontsize=20) # 設定X軸標題\n",
    "fig.text(0.01, 0.5, '購買頻率', ha='center', va='center', rotation='vertical', fontsize=20) # 設定Y軸標題\n",
    "fig.show()"
   ]
  },
  {
   "cell_type": "code",
   "execution_count": null,
   "metadata": {},
   "outputs": [],
   "source": [
    "target_product = '110411'\n",
    "\n",
    "#--- 繪圖\n",
    "#先設定畫布大小\n",
    "fig, axes = plt.subplots(6, 6,figsize=(25,15))\n",
    "countX = 0 # 畫布X軸座標\n",
    "for i in frequency_label[::-1]: # 由於axes畫布排列的關係，頻率必須要反著放\n",
    "    countY = 0 # 畫布Y軸座標\n",
    "    for j in recency_label: # 近因\n",
    "        data = purchase_list[(purchase_list['recency_cate']==j) & (purchase_list['frequency_cate']==i)]\n",
    "        if data.shape[0] != 0: # 檢查這個方格有沒有數據\n",
    "            # 以下為單一小圖表的設定\n",
    "            sns.barplot(y=target_product, # 小圖表Y資料來源欄位\n",
    "                        data=data, #來源資料表\n",
    "                        estimator=np.sum,\n",
    "                        capsize=.2, # 最高點最低點的大小\n",
    "                        ax=axes[countX, countY]) # 小圖表座標\n",
    "\n",
    "        ############### 四個區塊分顏色 ################\n",
    "        if countY > 2 and countX > 2:\n",
    "            axes[countX][countY].set(facecolor=\"#ffcdd2\") #紅色\n",
    "        elif countY > 2 and countX < 3:\n",
    "            axes[countX][countY].set(facecolor=\"#FFF9C4\") #黃色\n",
    "        elif countY < 3 and countX > 2:\n",
    "            axes[countX][countY].set(facecolor=\"#BBDEFB\") #藍色\n",
    "        else:\n",
    "            axes[countX][countY].set(facecolor=\"#B2DFDB\") #綠色\n",
    "            \n",
    "        countY += 1 \n",
    "    countX += 1 \n",
    "fig.suptitle('RFM圖 - '+target_product, position=(.5,1), fontsize=35)\n",
    "fig.text(0.5, 0.01, '光顧天數', ha='center', va='center', fontsize=20)\n",
    "fig.text(0.01, 0.5, '購買頻率', ha='center', va='center', rotation='vertical', fontsize=20)\n",
    "fig.show()"
   ]
  },
  {
   "cell_type": "markdown",
   "metadata": {},
   "source": [
    "## 商品種類: 120103 來畫RFM"
   ]
  },
  {
   "cell_type": "code",
   "execution_count": null,
   "metadata": {},
   "outputs": [],
   "source": [
    "fig, axes = plt.subplots(6, 6,figsize=(25,15))\n",
    "countX = 0 # 畫布X軸座標\n",
    "\n",
    "for i in frequency_label[::-1]: # 由於axes畫布排列的關係，頻率必須要反著放\n",
    "    countY = 0 # 畫布Y軸座標\n",
    "    for j in recency_label: # 近因\n",
    "        data = purchase_list[(purchase_list['recency_cate']==j) & (purchase_list['frequency_cate']==i)]\n",
    "        if data.shape[0] != 0: # 檢查這個方格有沒有數據\n",
    "            # 以下為單一小圖表的設定\n",
    "            sns.barplot(y=\"120103\", # 小圖表Y資料來源欄位\n",
    "                        data=data, #來源資料表\n",
    "                        estimator=np.sum,\n",
    "                        capsize=.2, # 最高點最低點的大小\n",
    "                        ax=axes[countX, countY]) # 小圖表座標\n",
    "        ################ 畫X標籤 ################\n",
    "        if i == '0~10 freq':\n",
    "            axes[countX][countY].set_xlabel(j, fontsize=17)\n",
    "            \n",
    "        ############### 畫Y標籤 ################\n",
    "        if j == '0-14 day':\n",
    "            axes[countX][countY].set_ylabel( frequency_label[::-1][countX], fontsize=17)\n",
    "        else:\n",
    "            axes[countX][countY].set_ylabel('')\n",
    "            \n",
    "        countY += 1 \n",
    "    countX += 1 \n",
    "fig.suptitle('RFM圖 - 120103', position=(.5,1), fontsize=35) # 設定標題\n",
    "fig.text(0.5, 0.01, '光顧天數', ha='center', va='center', fontsize=20) # 設定X軸標題\n",
    "fig.text(0.01, 0.5, '購買頻率', ha='center', va='center', rotation='vertical', fontsize=20) # 設定Y軸標題\n",
    "fig.show()"
   ]
  },
  {
   "cell_type": "code",
   "execution_count": null,
   "metadata": {},
   "outputs": [],
   "source": [
    "target_product = '120103'\n",
    "\n",
    "#--- 繪圖\n",
    "#先設定畫布大小\n",
    "fig, axes = plt.subplots(6, 6,figsize=(25,15))\n",
    "countX = 0 # 畫布X軸座標\n",
    "for i in frequency_label[::-1]: # 由於axes畫布排列的關係，頻率必須要反著放\n",
    "    countY = 0 # 畫布Y軸座標\n",
    "    for j in recency_label: # 近因\n",
    "        data = purchase_list[(purchase_list['recency_cate']==j) & (purchase_list['frequency_cate']==i)]\n",
    "        if data.shape[0] != 0: # 檢查這個方格有沒有數據\n",
    "            # 以下為單一小圖表的設定\n",
    "            sns.barplot(y=target_product, # 小圖表Y資料來源欄位\n",
    "                        data=data, #來源資料表\n",
    "                        estimator=np.sum,\n",
    "                        capsize=.2, # 最高點最低點的大小\n",
    "                        ax=axes[countX, countY]) # 小圖表座標\n",
    "\n",
    "        ############### 四個區塊分顏色 ################\n",
    "        if countY > 2 and countX > 2:\n",
    "            axes[countX][countY].set(facecolor=\"#ffcdd2\") #紅色\n",
    "        elif countY > 2 and countX < 3:\n",
    "            axes[countX][countY].set(facecolor=\"#FFF9C4\") #黃色\n",
    "        elif countY < 3 and countX > 2:\n",
    "            axes[countX][countY].set(facecolor=\"#BBDEFB\") #藍色\n",
    "        else:\n",
    "            axes[countX][countY].set(facecolor=\"#B2DFDB\") #綠色\n",
    "            \n",
    "        countY += 1 \n",
    "    countX += 1 \n",
    "fig.suptitle('RFM圖 - '+target_product, position=(.5,1), fontsize=35)\n",
    "fig.text(0.5, 0.01, '光顧天數', ha='center', va='center', fontsize=20)\n",
    "fig.text(0.01, 0.5, '購買頻率', ha='center', va='center', rotation='vertical', fontsize=20)\n",
    "fig.show()"
   ]
  },
  {
   "cell_type": "markdown",
   "metadata": {},
   "source": [
    "## 商品種類: 130206 來畫RFM"
   ]
  },
  {
   "cell_type": "code",
   "execution_count": null,
   "metadata": {},
   "outputs": [],
   "source": [
    "fig, axes = plt.subplots(6, 6,figsize=(25,15))\n",
    "countX = 0 # 畫布X軸座標\n",
    "\n",
    "for i in frequency_label[::-1]: # 由於axes畫布排列的關係，頻率必須要反著放\n",
    "    countY = 0 # 畫布Y軸座標\n",
    "    for j in recency_label: # 近因\n",
    "        data = purchase_list[(purchase_list['recency_cate']==j) & (purchase_list['frequency_cate']==i)]\n",
    "        if data.shape[0] != 0: # 檢查這個方格有沒有數據\n",
    "            # 以下為單一小圖表的設定\n",
    "            sns.barplot(y=\"130206\", # 小圖表Y資料來源欄位\n",
    "                        data=data, #來源資料表\n",
    "                        estimator=np.sum,\n",
    "                        capsize=.2, # 最高點最低點的大小\n",
    "                        ax=axes[countX, countY]) # 小圖表座標\n",
    "        ################ 畫X標籤 ################\n",
    "        if i == '0~10 freq':\n",
    "            axes[countX][countY].set_xlabel(j, fontsize=17)\n",
    "            \n",
    "        ############### 畫Y標籤 ################\n",
    "        if j == '0-14 day':\n",
    "            axes[countX][countY].set_ylabel( frequency_label[::-1][countX], fontsize=17)\n",
    "        else:\n",
    "            axes[countX][countY].set_ylabel('')\n",
    "            \n",
    "        countY += 1 \n",
    "    countX += 1 \n",
    "fig.suptitle('RFM圖 - 130206', position=(.5,1), fontsize=35) # 設定標題\n",
    "fig.text(0.5, 0.01, '光顧天數', ha='center', va='center', fontsize=20) # 設定X軸標題\n",
    "fig.text(0.01, 0.5, '購買頻率', ha='center', va='center', rotation='vertical', fontsize=20) # 設定Y軸標題\n",
    "fig.show()"
   ]
  },
  {
   "cell_type": "code",
   "execution_count": null,
   "metadata": {},
   "outputs": [],
   "source": [
    "target_product = '130206'\n",
    "\n",
    "#--- 繪圖\n",
    "#先設定畫布大小\n",
    "fig, axes = plt.subplots(6, 6,figsize=(25,15))\n",
    "countX = 0 # 畫布X軸座標\n",
    "for i in frequency_label[::-1]: # 由於axes畫布排列的關係，頻率必須要反著放\n",
    "    countY = 0 # 畫布Y軸座標\n",
    "    for j in recency_label: # 近因\n",
    "        data = purchase_list[(purchase_list['recency_cate']==j) & (purchase_list['frequency_cate']==i)]\n",
    "        if data.shape[0] != 0: # 檢查這個方格有沒有數據\n",
    "            # 以下為單一小圖表的設定\n",
    "            sns.barplot(y=target_product, # 小圖表Y資料來源欄位\n",
    "                        data=data, #來源資料表\n",
    "                        estimator=np.sum,\n",
    "                        capsize=.2, # 最高點最低點的大小\n",
    "                        ax=axes[countX, countY]) # 小圖表座標\n",
    "\n",
    "        ############### 四個區塊分顏色 ################\n",
    "        if countY > 2 and countX > 2:\n",
    "            axes[countX][countY].set(facecolor=\"#ffcdd2\") #紅色\n",
    "        elif countY > 2 and countX < 3:\n",
    "            axes[countX][countY].set(facecolor=\"#FFF9C4\") #黃色\n",
    "        elif countY < 3 and countX > 2:\n",
    "            axes[countX][countY].set(facecolor=\"#BBDEFB\") #藍色\n",
    "        else:\n",
    "            axes[countX][countY].set(facecolor=\"#B2DFDB\") #綠色\n",
    "            \n",
    "        countY += 1 \n",
    "    countX += 1 \n",
    "fig.suptitle('RFM圖 - '+target_product, position=(.5,1), fontsize=35)\n",
    "fig.text(0.5, 0.01, '光顧天數', ha='center', va='center', fontsize=20)\n",
    "fig.text(0.01, 0.5, '購買頻率', ha='center', va='center', rotation='vertical', fontsize=20)\n",
    "fig.show()"
   ]
  },
  {
   "cell_type": "markdown",
   "metadata": {},
   "source": [
    "## 綜合 RFM 產品分析 - 留下前三名就好 100205 & 120103 & 110401"
   ]
  },
  {
   "cell_type": "code",
   "execution_count": null,
   "metadata": {},
   "outputs": [],
   "source": [
    "df3 = pd.melt(purchase_list.drop(columns = ['ORDER_ID','Date','recency','frequency', '110411', '130206']), id_vars=['CUSTOMER_ID','customer','recency_cate','frequency_cate','AGE_GROUP', 'PIN_CODE'], var_name='types', value_name='values') \n",
    "df3['values'] = pd.to_numeric(df3['values'],errors='coerce')\n",
    "df3 = df3.dropna()\n",
    "df3"
   ]
  },
  {
   "cell_type": "code",
   "execution_count": null,
   "metadata": {},
   "outputs": [],
   "source": [
    "#--- 繪圖\n",
    "#先設定畫布大小\n",
    "fig, axes = plt.subplots(6, 6,figsize=(25,15))\n",
    "countX = 0 # 畫布X軸座標\n",
    "for i in frequency_label[::-1]: # 由於axes畫布排列的關係，頻率必須要反著放\n",
    "    countY = 0 # 畫布Y軸座標\n",
    "    for j in recency_label: # 近因\n",
    "        data = df3[(df3['recency_cate']==j) & (df3['frequency_cate']==i)]\n",
    "        if data.shape[0] != 0: # 檢查這個方格有沒有數據\n",
    "            # 以下為單一小圖表的設定\n",
    "            sns.barplot(x=\"types\", # 小圖表X資料來源欄位\n",
    "                        y=\"values\", # 小圖表Y資料來源欄位\n",
    "                        data=data, #來源資料表\n",
    "                        capsize=.2, # 最高點最低點的大小\n",
    "                        ax=axes[countX, countY]) # 小圖表座標\n",
    "        # ################ 畫X標籤 ################\n",
    "        if i == '0~10 freq':\n",
    "            axes[countX][countY].set_xlabel(j, fontsize=17)\n",
    "            \n",
    "        ############### 畫Y標籤 ################\n",
    "        if j == '0-14 day':\n",
    "            axes[countX][countY].set_ylabel( frequency_label[::-1][countX], fontsize=17)\n",
    "        else:\n",
    "            axes[countX][countY].set_ylabel('')\n",
    "            \n",
    "            \n",
    "        ################ 將水、牛奶、香蕉的字變大 ################\n",
    "        axes[countX][countY].tick_params(labelsize=15)\n",
    "        ############### 使所有數據的尺碼相同 ################\n",
    "        axes[countX][countY].set_yticks(range(0,3,1))\n",
    "        \n",
    "        \n",
    "        ############### 四個區塊分顏色 ################\n",
    "        if countY > 2 and countX > 2:\n",
    "            axes[countX][countY].set(facecolor=\"#ffcdd2\") #紅色\n",
    "        elif countY > 2 and countX < 3:\n",
    "            axes[countX][countY].set(facecolor=\"#FFF9C4\") #黃色\n",
    "        elif countY < 3 and countX > 2:\n",
    "            axes[countX][countY].set(facecolor=\"#BBDEFB\") #藍色\n",
    "        else:\n",
    "            axes[countX][countY].set(facecolor=\"#B2DFDB\") #綠色\n",
    "            \n",
    "        countY += 1 \n",
    "    countX += 1 \n",
    "fig.suptitle('RFM產品面分析圖', position=(.5,1), fontsize=35) # 設定標題\n",
    "fig.text(0.5, 0.01, '光顧天數', ha='center', va='center', fontsize=20) # 設定X軸標題\n",
    "fig.text(0.01, 0.5, '購買頻率', ha='center', va='center', rotation='vertical', fontsize=20) # 設定Y軸標題\n",
    "fig.show()"
   ]
  },
  {
   "cell_type": "markdown",
   "metadata": {},
   "source": [
    "## RFM 市場面分析 - 區域影響 - 以前三名產品為例"
   ]
  },
  {
   "cell_type": "code",
   "execution_count": null,
   "metadata": {},
   "outputs": [],
   "source": [
    "#--- 繪圖\n",
    "#先設定畫布大小\n",
    "fig, axes = plt.subplots(6, 6,figsize=(40,25))\n",
    "countX = 0 # 畫布X軸座標\n",
    "for i in frequency_label[::-1]: # 由於axes畫布排列的關係，頻率必須要反著放\n",
    "    countY = 0 # 畫布Y軸座標\n",
    "    for j in recency_label: # 近因\n",
    "        data = df3[(df3['recency_cate']==j) & (df3['frequency_cate']==i)]\n",
    "        if data.shape[0] != 0: # 檢查這個方格有沒有數據\n",
    "            data = data[['PIN_CODE','types','values']].groupby(['types','PIN_CODE']).sum()\n",
    "            data =data.groupby(level=1).apply(lambda x:100 * x / float(x.sum())) # 將其數量換成百分比\n",
    "            data = data.add_suffix('').reset_index() #將三圍度改為二圍度\n",
    "            data=data.pivot('PIN_CODE', 'types', 'values') # XY軸交換表示\n",
    "            \n",
    "            # 以下為單一小圖表的設定\n",
    "            ax = data.plot.bar(stacked=True, # 設定為堆疊\n",
    "                              width=0.7,# 柱子的寬度\n",
    "                              legend = True, \n",
    "                              ax =axes[countX, countY] , # 小圖表座標\n",
    "                              rot=0) #小圖示的標籤旋轉 \n",
    "            \n",
    "        ################ 畫X標籤 ################\n",
    "        if i == '0~10 freq':\n",
    "            axes[countX][countY].set_xlabel(j, fontsize=17)\n",
    "            \n",
    "        ############### 畫Y標籤 ################\n",
    "        if j == '0-14 day':\n",
    "            axes[countX][countY].set_ylabel( frequency_label[::-1][countX], fontsize=17)\n",
    "        else:\n",
    "            axes[countX][countY].set_ylabel('')\n",
    "            \n",
    "            \n",
    "        ################ 將水、牛奶、香蕉的字變大 ################\n",
    "        axes[countX][countY].tick_params(labelsize=15)\n",
    "        \n",
    "        \n",
    "        ############### 四個區塊分顏色 ################\n",
    "        if countY > 2 and countX > 2:\n",
    "            axes[countX][countY].set(facecolor=\"#ffcdd2\") #紅色\n",
    "        elif countY > 2 and countX < 3:\n",
    "            axes[countX][countY].set(facecolor=\"#FFF9C4\") #黃色\n",
    "        elif countY < 3 and countX > 2:\n",
    "            axes[countX][countY].set(facecolor=\"#BBDEFB\") #藍色\n",
    "        else:\n",
    "            axes[countX][countY].set(facecolor=\"#B2DFDB\") #綠色\n",
    "            \n",
    "        countY += 1 \n",
    "    countX += 1 \n",
    "fig.suptitle('RFM市場面分析圖', position=(.5,1), fontsize=35) # 設定標題\n",
    "fig.text(0.5, 0.01, '光顧天數', ha='center', va='center', fontsize=20) # 設定X軸標題\n",
    "fig.text(0.01, 0.5, '購買頻率', ha='center', va='center', rotation='vertical', fontsize=20) # 設定Y軸標題\n",
    "fig.show()\n"
   ]
  },
  {
   "cell_type": "code",
   "execution_count": null,
   "metadata": {},
   "outputs": [],
   "source": [
    "## 每個區域對三個產品的消費次數比例\n",
    "data"
   ]
  },
  {
   "cell_type": "code",
   "execution_count": null,
   "metadata": {},
   "outputs": [],
   "source": [
    "## 將圖例隱藏，剩一個\n",
    "#--- 繪圖\n",
    "#先設定畫布大小\n",
    "fig, axes = plt.subplots(6, 6,figsize=(40,35))\n",
    "countX = 0 # 畫布X軸座標\n",
    "for i in frequency_label[::-1]: # 由於axes畫布排列的關係，頻率必須要反著放\n",
    "    countY = 0 # 畫布Y軸座標\n",
    "    for j in recency_label: # 近因\n",
    "        data = df3[(df3['recency_cate']==j) & (df3['frequency_cate']==i)]\n",
    "        if data.shape[0] != 0: \n",
    "            data = data[['PIN_CODE','types','values']].groupby(['types','PIN_CODE']).sum()\n",
    "            data =data.groupby(level=1).apply(lambda x:100 * x / float(x.sum())) # 將其數量換成百分比\n",
    "            data = data.add_suffix('').reset_index() #將三圍度改為二圍度\n",
    "            data=data.pivot('PIN_CODE', 'types', 'values') # XY軸交換表示\n",
    "            \n",
    "            # 以下為單一小圖表的設定\n",
    "            ax = data.plot.bar(stacked=True, # 設定為堆疊\n",
    "                              width=0.7,# 柱子的寬度\n",
    "                              legend = False, \n",
    "                              ax =axes[countX, countY] , # 小圖表座標\n",
    "                              rot=0) #小圖示的標籤旋轉\n",
    "            \n",
    "        ################ 設定圖例 ################\n",
    "        if (i == '41~50 freq') and (j == '>66 day'):\n",
    "            ax.legend(bbox_to_anchor=(1.03, 1), loc=2, fontsize =10) #設定圖例  \n",
    "            \n",
    "        ################ 畫X標籤 ################\n",
    "        if i == '0~10 freq':\n",
    "            axes[countX][countY].set_xlabel(j, fontsize=17)\n",
    "            \n",
    "        ############### 畫Y標籤 ################\n",
    "        if j == '0-14 day':\n",
    "            axes[countX][countY].set_ylabel( frequency_label[::-1][countX], fontsize=17)\n",
    "        else:\n",
    "            axes[countX][countY].set_ylabel('')\n",
    "            \n",
    "            \n",
    "        ################ 將水、牛奶、香蕉的字變大 ################\n",
    "        axes[countX][countY].tick_params(labelsize=15)\n",
    "        \n",
    "        \n",
    "        ############### 四個區塊分顏色 ################\n",
    "        if countY > 2 and countX > 2:\n",
    "            axes[countX][countY].set(facecolor=\"#ffcdd2\") #紅色\n",
    "        elif countY > 2 and countX < 3:\n",
    "            axes[countX][countY].set(facecolor=\"#FFF9C4\") #黃色\n",
    "        elif countY < 3 and countX > 2:\n",
    "            axes[countX][countY].set(facecolor=\"#BBDEFB\") #藍色\n",
    "        else:\n",
    "            axes[countX][countY].set(facecolor=\"#B2DFDB\") #綠色\n",
    "            \n",
    "        countY += 1 \n",
    "    countX += 1 \n",
    "fig.suptitle('RFM市場面分析圖', position=(.5,1), fontsize=35) # 設定標題\n",
    "fig.text(0.5, 0.01, '光顧天數', ha='center', va='center', fontsize=20) # 設定X軸標題\n",
    "fig.text(0.01, 0.5, '購買頻率', ha='center', va='center', rotation='vertical', fontsize=20) # 設定Y軸標題\n",
    "fig.show()"
   ]
  },
  {
   "cell_type": "markdown",
   "metadata": {},
   "source": [
    "## RFM 顧客回購面分析 - 前五名商品\n",
    "\n",
    "CAI: 顧客活躍度\n",
    "CAI > 0: 代表活躍\n",
    "CAI < 0: 代表不活躍"
   ]
  },
  {
   "cell_type": "code",
   "execution_count": null,
   "metadata": {},
   "outputs": [],
   "source": [
    "theOS = list(platform.uname())[0]\n",
    "if theOS == 'Windows':\n",
    "    theOS = '\\\\'\n",
    "    theEncode = 'utf-8-sig'\n",
    "else:\n",
    "    theOS = '/'\n",
    "    theEncode = 'utf-8'\n",
    "\n",
    "df = pd.read_csv('../data/ta_feng_all_months_merged.csv')\n",
    "\n",
    "## 時間格式轉換\n",
    "df['Date'] = pd.to_datetime(df['TRANSACTION_DT'])\n",
    "## 增加一筆用來計算頻率的欄位\n",
    "df['count'] = 1\n",
    "## 創建訂單ID\n",
    "df['ORDER_ID'] = df.index\n",
    "\n",
    "product_five = df.groupby('PRODUCT_SUBCLASS')['count'].sum().sort_values(ascending = False)[:5]\n",
    "new_df = df[df['PRODUCT_SUBCLASS'].isin(product_five.index)]\n",
    "\n",
    "purchase_list = new_df.pivot_table(index = ['CUSTOMER_ID', 'ORDER_ID', 'PIN_CODE', 'Date', 'AGE_GROUP'],\n",
    "                                    columns='PRODUCT_SUBCLASS',\n",
    "                                    aggfunc=sum,\n",
    "                                    values='AMOUNT'\n",
    "                                    ).fillna(0).reset_index()\n",
    "purchase_list['frequency'] = 1\n",
    "\n",
    "frequency = purchase_list.groupby(\"CUSTOMER_ID\",\n",
    "as_index= False)['frequency'].sum()\n",
    "\n",
    "del purchase_list['frequency']\n",
    "\n",
    "\n",
    "# 合併 frequency \n",
    "purchase_list =purchase_list.merge(frequency, # 即將合併上去的資料表\n",
    "                                   on = ['CUSTOMER_ID'] # 兩表間連接的key\n",
    "                                   ,how='inner') # 合併的方式\n",
    "\n",
    "theToday = purchase_list['Date'].max()\n",
    "purchase_list['recency'] =( theToday - purchase_list['Date'] ).astype(str)\n",
    "purchase_list\n",
    "purchase_list['recency'] = purchase_list['recency'].str.replace('days.*',\n",
    "                                                                  '',\n",
    "                                                                  regex = True)\n",
    "purchase_list['recency'] = purchase_list['recency'].astype(int)\n",
    "purchase_list"
   ]
  },
  {
   "cell_type": "code",
   "execution_count": null,
   "metadata": {},
   "outputs": [],
   "source": [
    "## 計算顧客購買間隔時間\n",
    "purchase_list['interval'] = purchase_list.groupby(\"CUSTOMER_ID\", #分類條件\n",
    "                                  as_index = True # 分類條件是否要取代Index\n",
    "                                  )['Date'].diff()\n",
    "#刪除第一次來本店的資料 (因為要算區間，第一筆沒有用，和只來一次的顧客就會被刪掉)\n",
    "purchase_list.dropna(inplace = True)\n",
    "# 將時間資料轉成字串\n",
    "purchase_list['interval'] = purchase_list['interval'].astype(str)\n",
    "purchase_list"
   ]
  },
  {
   "cell_type": "code",
   "execution_count": null,
   "metadata": {},
   "outputs": [],
   "source": [
    "#將欄位中的days去除\n",
    "purchase_list['interval'] = purchase_list['interval'].str.replace('days.*', '').astype(int)\n",
    "purchase_list"
   ]
  },
  {
   "cell_type": "code",
   "execution_count": null,
   "metadata": {},
   "outputs": [],
   "source": [
    "## 計算第幾次來本店消費\n",
    "purchase_list['cumsum'] = 1\n",
    "purchase_list['cumsum'] = purchase_list.groupby(\"CUSTOMER_ID\")['cumsum'].cumsum()\n",
    "purchase_list"
   ]
  },
  {
   "cell_type": "code",
   "execution_count": null,
   "metadata": {},
   "outputs": [],
   "source": [
    "############# 活躍指數 ###########\n",
    "## 計算平均 平均幾天來一次消費\n",
    "interval_mean = purchase_list.groupby(\"CUSTOMER_ID\", as_index = False)['interval'].mean()\n",
    "interval_mean.rename(columns={\"interval\": \"interval_mean\"}, inplace = True)\n",
    "interval_mean"
   ]
  },
  {
   "cell_type": "code",
   "execution_count": null,
   "metadata": {},
   "outputs": [],
   "source": [
    "# 合併平均\n",
    "purchase_list =purchase_list.merge(interval_mean, # 即將合併上去的資料表\n",
    "                                   on = ['CUSTOMER_ID'] # 兩表間連接的key\n",
    "                                   ,how='inner') # 合併的方式\n",
    "purchase_list"
   ]
  },
  {
   "cell_type": "code",
   "execution_count": null,
   "metadata": {},
   "outputs": [],
   "source": [
    "## 計算顧客活躍度比重\n",
    "purchase_list['weighted_average'] = purchase_list['interval'] * purchase_list['cumsum'] / (purchase_list['frequency']*(purchase_list['frequency'] -1)/2) / purchase_list['interval_mean']\n",
    "purchase_list"
   ]
  },
  {
   "cell_type": "code",
   "execution_count": null,
   "metadata": {},
   "outputs": [],
   "source": [
    "## 計算每個顧客的活躍度\n",
    "clientId_weighted_average = purchase_list.groupby(\"CUSTOMER_ID\", as_index = False)['weighted_average'].sum()\n",
    "clientId_weighted_average['weighted_average'] = 1-clientId_weighted_average['weighted_average']\n",
    "clientId_weighted_average"
   ]
  },
  {
   "cell_type": "code",
   "execution_count": null,
   "metadata": {},
   "outputs": [],
   "source": [
    "## 定義顧客屬於活躍還是不活躍\n",
    "#以0做基準 \n",
    "clientId_weighted_average['back_probability'] = np.where( clientId_weighted_average['weighted_average'] >= 0, 'good','bad')\n",
    "clientId_weighted_average"
   ]
  },
  {
   "cell_type": "markdown",
   "metadata": {},
   "source": [
    "## 重要顧客(活躍)排序"
   ]
  },
  {
   "cell_type": "code",
   "execution_count": null,
   "metadata": {},
   "outputs": [],
   "source": [
    "## 定義級距，有點像PR值，看顧客在所有顧客中的活躍百分比\n",
    "clientId_weighted_average['percentage'] = (clientId_weighted_average['weighted_average']  - clientId_weighted_average['weighted_average'].min()) / (clientId_weighted_average['weighted_average'].max() - clientId_weighted_average['weighted_average'].min()) *100\n",
    "clientId_weighted_average = clientId_weighted_average.sort_values(by = 'percentage', ascending = False)\n",
    "clientId_weighted_average.to_csv('clientId_weighted_average.csv')\n",
    "clientId_weighted_average"
   ]
  },
  {
   "cell_type": "markdown",
   "metadata": {},
   "source": [
    "## 商品推薦清單 以前五名商品例"
   ]
  },
  {
   "cell_type": "code",
   "execution_count": null,
   "metadata": {},
   "outputs": [],
   "source": [
    "purchase_list = pd.read_csv('purchase_list.csv', encoding=theEncode)\n",
    "clientId_weighted_average = pd.read_csv('clientId_weighted_average.csv', encoding=theEncode)\n",
    "\n",
    "clientId_weighted_average"
   ]
  },
  {
   "cell_type": "code",
   "execution_count": null,
   "metadata": {},
   "outputs": [],
   "source": [
    "########### 創造商品的推薦清單 ###########\n",
    "recommended_list = purchase_list.groupby(\"CUSTOMER_ID\", #分類條件\n",
    "                                  as_index = False # 分類條件是否要取代Index\n",
    "                                  )['100205', '110401', '110411', '120103', '130206'].sum() # 目的欄位 & 計算方式，max, min, mean, sum\n",
    "\n",
    "recommended_list\n",
    "\n",
    "sort=[]\n",
    "for i in range(len(recommended_list)):\n",
    "    sort.append(' > '.join(recommended_list[['100205', '110401', '110411', '120103', '130206']].iloc[i].sort_values(ascending=False).index.values))\n",
    "\n",
    "recommended_list['recommended_list'] = sort\n",
    "recommended_list\n",
    "# clientId_weighted_average['recommended_list']=sort\n",
    "# clientId_weighted_average"
   ]
  },
  {
   "cell_type": "code",
   "execution_count": null,
   "metadata": {},
   "outputs": [],
   "source": [
    "clientId_weighted_average = clientId_weighted_average.merge(recommended_list, on = ['CUSTOMER_ID'] ,how='inner')\n",
    "# clientId_weighted_average.to_csv('clientId_weighted_average2.csv')\n",
    "clientId_weighted_average = clientId_weighted_average[['CUSTOMER_ID', 'weighted_average', 'back_probability', 'percentage', 'recommended_list']]\n",
    "clientId_weighted_average"
   ]
  },
  {
   "cell_type": "code",
   "execution_count": null,
   "metadata": {},
   "outputs": [],
   "source": [
    "clientId_weighted_average['recency'] = purchase_list.groupby(\"CUSTOMER_ID\", #分類條件\n",
    "                                                              as_index = False # 分類條件是否要取代Index\n",
    "                                                              )['recency'].min()[['recency']] # 目的欄位 & 計算方式，max, min, mean, sum\n",
    "clientId_weighted_average['frequency'] = purchase_list.groupby(\"CUSTOMER_ID\", #分類條件\n",
    "                                                              as_index = False # 分類條件是否要取代Index\n",
    "                                                              )['frequency'].min()['frequency'] # 目的欄位 & 計算方式，max, min, mean, sum\n",
    "clientId_weighted_average"
   ]
  }
 ],
 "metadata": {
  "kernelspec": {
   "display_name": "Python 3",
   "language": "python",
   "name": "python3"
  },
  "language_info": {
   "codemirror_mode": {
    "name": "ipython",
    "version": 3
   },
   "file_extension": ".py",
   "mimetype": "text/x-python",
   "name": "python",
   "nbconvert_exporter": "python",
   "pygments_lexer": "ipython3",
   "version": "3.7.6"
  }
 },
 "nbformat": 4,
 "nbformat_minor": 4
}
