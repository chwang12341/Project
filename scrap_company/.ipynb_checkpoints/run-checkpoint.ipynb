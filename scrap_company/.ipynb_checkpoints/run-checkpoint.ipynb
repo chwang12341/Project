{
 "cells": [
  {
   "cell_type": "code",
   "execution_count": null,
   "id": "0a472ad3",
   "metadata": {},
   "outputs": [
    {
     "name": "stdout",
     "output_type": "stream",
     "text": [
      "進度: 1 / 219\n",
      "查詢公司:  00000000\n"
     ]
    }
   ],
   "source": [
    "import pandas as pd\n",
    "import requests\n",
    "import xml.etree.ElementTree as ET\n",
    "import time\n",
    "\n",
    "def load_data():\n",
    "    dataset = pd.read_csv('company_id.csv')\n",
    "    ## test 1000 data\n",
    "    ## dataset = dataset[:10]\n",
    "    data = list(str(dataset['CUST_ID_NO']))\n",
    "    \n",
    "    ## 檢查是否有八位數，沒有就前面補0\n",
    "    for i in range(len(data)):\n",
    "        data[i] = data[i].zfill(8)\n",
    "    \n",
    "    return dataset, data\n",
    "\n",
    "def exc(data):\n",
    "    ## load\n",
    "    status = []\n",
    "    c_name = []\n",
    "\n",
    "    ## 檢查營業狀態: 公司登記\n",
    "    progress = 1\n",
    "    for i in data:\n",
    "        print('進度: ' + str(progress) + ' / '+ str(len(data)))\n",
    "        print('查詢公司: ', i)\n",
    "        progress += 1\n",
    "        html = requests.get('https://data.gcis.nat.gov.tw/od/data/api/F05D1060-7D57-4763-BDCE-0DAF5975AFE0?$format=xml&$filter=Business_Accounting_NO%20eq '+ i +'&$skip=0&$top=1')\n",
    "        root = ET.fromstring(html.text)\n",
    "    #     print(html.text)\n",
    "    #     print(root[0][3].text)\n",
    "        if len(root) == 1:\n",
    "            status.append(root[0][3].text)\n",
    "            c_name.append(root[0][1].text)\n",
    "            print(root[0][3].text)\n",
    "        elif len(root) == 0:\n",
    "            print('公司登記查不到...')\n",
    "            print('開始查詢商業登記狀態...')\n",
    "            ## 檢查營業狀態: 商業登記(經公司登記篩選為查無此資料的公司，再透過商業登記篩選)\n",
    "            html = requests.get('https://data.gcis.nat.gov.tw/od/data/api/426D5542-5F05-43EB-83F9-F1300F14E1F1?$format=xml&$filter=President_No eq '+i+'&$skip=0&$top=1')\n",
    "            root = ET.fromstring(html.text)\n",
    "            if len(root) == 1:\n",
    "                status.append(root[0][3].text)\n",
    "                c_name.append(root[0][1].text)\n",
    "                print(root[0][3].text)\n",
    "            elif len(root) == 0:\n",
    "                status.append('查無資料')\n",
    "                c_name.append('查無資料')\n",
    "                print('公司登記與商業登記都查無資料')\n",
    "        time.sleep(3)\n",
    "        \n",
    "    return status, c_name\n",
    "\n",
    "\n",
    "def save(dataset, status, c_name):\n",
    "    dataset['status'] = status\n",
    "    dataset['company'] = c_name\n",
    "    dataset.to_csv('company_status.csv', encoding = 'utf-8-sig')\n",
    "\n",
    "\n",
    "if __name__ == '__main__':\n",
    "    dataset, data = load_data()\n",
    "    status, c_name = exc(data)\n",
    "    save(dataset, status, c_name)  "
   ]
  },
  {
   "cell_type": "code",
   "execution_count": null,
   "id": "9c40f2bc",
   "metadata": {},
   "outputs": [],
   "source": [
    "dataset = pd.read_csv('company_id.csv')\n",
    "dataset['CUST_ID_NO']"
   ]
  }
 ],
 "metadata": {
  "kernelspec": {
   "display_name": "Python 3 (ipykernel)",
   "language": "python",
   "name": "python3"
  },
  "language_info": {
   "codemirror_mode": {
    "name": "ipython",
    "version": 3
   },
   "file_extension": ".py",
   "mimetype": "text/x-python",
   "name": "python",
   "nbconvert_exporter": "python",
   "pygments_lexer": "ipython3",
   "version": "3.9.7"
  }
 },
 "nbformat": 4,
 "nbformat_minor": 5
}
