{
 "cells": [
  {
   "cell_type": "code",
   "execution_count": 115,
   "metadata": {},
   "outputs": [],
   "source": [
    "import pandas as pd\n",
    "from selenium import webdriver\n",
    "from selenium.webdriver.common.keys import Keys\n",
    "from selenium.webdriver.common.by import By\n",
    "import time\n",
    "import os"
   ]
  },
  {
   "cell_type": "code",
   "execution_count": 116,
   "metadata": {},
   "outputs": [],
   "source": [
    "## set keyword\n",
    "keyword = '核四'\n",
    "## set start page\n",
    "start_page = '3'\n",
    "## set how many pages you want\n",
    "pages = 2\n",
    "## set time\n",
    "start_time = '20041201'\n",
    "end_time = '20220501'"
   ]
  },
  {
   "cell_type": "code",
   "execution_count": 117,
   "metadata": {},
   "outputs": [],
   "source": [
    "driver_path = 'driver/chromedriver.exe'\n",
    "driver = webdriver.Chrome(driver_path)"
   ]
  },
  {
   "cell_type": "code",
   "execution_count": 118,
   "metadata": {},
   "outputs": [
    {
     "name": "stdout",
     "output_type": "stream",
     "text": [
      "https://search.ltn.com.tw/list?keyword=核四&start_time=20041201&end_time=20220501&sort=date&type=all&page=\n",
      "https://search.ltn.com.tw/list?keyword=核四&start_time=20041201&end_time=20220501&sort=date&type=all&page=3\n",
      "網頁名稱: 核四 - 全域查詢 - 自由時報電子報\n"
     ]
    }
   ],
   "source": [
    "url_format = 'https://search.ltn.com.tw/list?keyword='+keyword+'&start_time='+start_time+'&end_time='+end_time+'&sort=date&type=all&page='\n",
    "print(url_format)\n",
    "target_url = url_format + start_page\n",
    "print(target_url)\n",
    "driver.get(target_url)\n",
    "print('網頁名稱: '+ driver.title)"
   ]
  },
  {
   "cell_type": "code",
   "execution_count": 119,
   "metadata": {},
   "outputs": [],
   "source": [
    "## 新聞標題\n",
    "news_title = []\n",
    "## 新聞時間\n",
    "dates = []\n",
    "## 新聞內容\n",
    "contents = []\n",
    "## 新聞連結\n",
    "urls = []\n",
    "\n",
    "if not os.path.isdir('result/'):\n",
    "    os.mkdir('result/')"
   ]
  },
  {
   "cell_type": "code",
   "execution_count": null,
   "metadata": {},
   "outputs": [
    {
     "name": "stdout",
     "output_type": "stream",
     "text": [
      "正在爬取第3頁\n",
      "第3頁的第1則新聞\n",
      "第3頁的第2則新聞\n",
      "第3頁的第3則新聞\n",
      "第3頁的第4則新聞\n",
      "第3頁的第5則新聞\n",
      "第3頁的第6則新聞\n",
      "第3頁的第7則新聞\n",
      "第3頁的第8則新聞\n",
      "第3頁的第9則新聞\n",
      "第3頁的第10則新聞\n",
      "第3頁的第11則新聞\n",
      "第3頁的第12則新聞\n",
      "第3頁的第13則新聞\n",
      "第3頁的第14則新聞\n",
      "第3頁的第15則新聞\n",
      "第3頁的第16則新聞\n",
      "第3頁的第17則新聞\n",
      "第3頁的第18則新聞\n",
      "第3頁的第19則新聞\n",
      "第3頁的第20則新聞\n",
      "正在爬取第4頁\n",
      "第4頁的第1則新聞\n",
      "第4頁的第2則新聞\n",
      "第4頁的第3則新聞\n",
      "第4頁的第4則新聞\n",
      "第4頁的第5則新聞\n",
      "第4頁的第6則新聞\n",
      "第4頁的第7則新聞\n",
      "第4頁的第8則新聞\n",
      "第4頁的第9則新聞\n",
      "第4頁的第10則新聞\n",
      "第4頁的第11則新聞\n",
      "第4頁的第12則新聞\n",
      "第4頁的第13則新聞\n",
      "第4頁的第14則新聞\n",
      "第4頁的第15則新聞\n",
      "第4頁的第16則新聞\n",
      "第4頁的第17則新聞\n",
      "第4頁的第18則新聞\n",
      "第4頁的第19則新聞\n"
     ]
    }
   ],
   "source": [
    "current_page = int(start_page)\n",
    "for i in range(pages):\n",
    "    news = []\n",
    "    if i != 0:\n",
    "        next_button = driver.find_element(By.CLASS_NAME, 'p_next')\n",
    "        next_button.send_keys(Keys.RETURN)\n",
    "    print('正在爬取第'+str(current_page)+'頁')\n",
    "    time.sleep(2)\n",
    "    titles = driver.find_elements_by_class_name('tit')\n",
    "    for title in titles:\n",
    "        news.append(title.text)\n",
    "    count = 1\n",
    "    for new in news:\n",
    "        print('第'+str(current_page)+'頁的第'+str(count)+'則新聞')\n",
    "        news_title.append(new)\n",
    "        time.sleep(2)\n",
    "        a = driver.find_element(By.LINK_TEXT, new)\n",
    "        a.send_keys(Keys.RETURN)\n",
    "        time.sleep(2)\n",
    "        urls.append(driver.current_url)\n",
    "        time.sleep(6)\n",
    "        date = driver.find_element(By.CLASS_NAME, 'time')\n",
    "        dates.append(date.text)\n",
    "        time.sleep(2)\n",
    "        content = driver.find_element(By.CLASS_NAME, 'text')\n",
    "        contents.append(content.text)\n",
    "        time.sleep(2)\n",
    "        driver.back()\n",
    "        time.sleep(2)\n",
    "        count+=1\n",
    "\n",
    "    current_page+=1\n",
    "        \n",
    "\n",
    "result = {\n",
    "          '新聞標題': news_title,\n",
    "          '日期時間': dates,\n",
    "          '新聞內容': contents,\n",
    "          '新聞連結': urls,\n",
    "          }\n",
    "result_df = pd.DataFrame(result)\n",
    "now = time.strftime('%Y%m%d%H%M', time.localtime())\n",
    "result_df.to_csv('result/'+now+'_result.csv', encoding = 'utf-8-sig', index = False)"
   ]
  }
 ],
 "metadata": {
  "kernelspec": {
   "display_name": "Python 3",
   "language": "python",
   "name": "python3"
  },
  "language_info": {
   "codemirror_mode": {
    "name": "ipython",
    "version": 3
   },
   "file_extension": ".py",
   "mimetype": "text/x-python",
   "name": "python",
   "nbconvert_exporter": "python",
   "pygments_lexer": "ipython3",
   "version": "3.7.6"
  }
 },
 "nbformat": 4,
 "nbformat_minor": 4
}
