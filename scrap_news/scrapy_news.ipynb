{
 "cells": [
  {
   "cell_type": "code",
   "execution_count": null,
   "metadata": {},
   "outputs": [],
   "source": [
    "import pandas as pd\n",
    "from selenium import webdriver\n",
    "from selenium.webdriver.common.keys import Keys\n",
    "import time"
   ]
  },
  {
   "cell_type": "code",
   "execution_count": null,
   "metadata": {},
   "outputs": [],
   "source": [
    "keyword = '虛擬貨幣'\n",
    "pages = 6"
   ]
  },
  {
   "cell_type": "code",
   "execution_count": null,
   "metadata": {},
   "outputs": [],
   "source": [
    "driver_path = 'driver/chromedriver.exe'\n",
    "driver = webdriver.Chrome(driver_path)"
   ]
  },
  {
   "cell_type": "code",
   "execution_count": null,
   "metadata": {},
   "outputs": [],
   "source": [
    "driver.get('https://search.ltn.com.tw/')\n",
    "print('網頁名稱: '+ driver.title)\n",
    "search = driver.find_element_by_xpath('//*[@id=\"keyword_search\"]')\n",
    "search.send_keys(keyword)\n",
    "search.send_keys(Keys.RETURN)\n",
    "time.sleep(2)"
   ]
  },
  {
   "cell_type": "code",
   "execution_count": null,
   "metadata": {},
   "outputs": [],
   "source": [
    "## 新聞標題\n",
    "news_title = []\n",
    "## 新聞時間\n",
    "dates = []\n",
    "## 新聞內容\n",
    "contents = []\n",
    "## 新聞連結\n",
    "urls = []"
   ]
  },
  {
   "cell_type": "code",
   "execution_count": null,
   "metadata": {},
   "outputs": [],
   "source": [
    "for i in range(pages):\n",
    "    news = []\n",
    "    if i != 0:\n",
    "        next_button = driver.find_element_by_class_name('p_next')\n",
    "        next_button.send_keys(Keys.RETURN)\n",
    "    print('正在爬取第'+str(i+1)+'頁')\n",
    "    time.sleep(2)\n",
    "    titles = driver.find_elements_by_class_name('tit')\n",
    "    for title in titles:\n",
    "        news.append(title.text)\n",
    "    count = 1\n",
    "    for new in news:\n",
    "        print('第'+str(i+1)+'頁的第'+str(count)+'則新聞')\n",
    "        news_title.append(new)\n",
    "        time.sleep(2)\n",
    "        a = driver.find_element_by_link_text(new)\n",
    "        a.send_keys(Keys.RETURN)\n",
    "        time.sleep(2)\n",
    "        urls.append(driver.current_url)\n",
    "        time.sleep(6)\n",
    "        date = driver.find_element_by_class_name(\"time\")\n",
    "        dates.append(date.text)\n",
    "        time.sleep(2)\n",
    "        content = driver.find_element_by_class_name('text')\n",
    "        contents.append(content.text)\n",
    "        time.sleep(2)\n",
    "        driver.back()\n",
    "        time.sleep(2)\n",
    "        count+=1\n",
    "\n",
    "result = {\n",
    "          '新聞標題': news_title,\n",
    "          '日期時間': dates,\n",
    "          '新聞內容': contents,\n",
    "          '新聞連結': urls,\n",
    "          }\n",
    "result_df = pd.DataFrame(result)\n",
    "now = time.strftime('%Y%m%d%H%M', time.localtime())\n",
    "result_df.to_csv('result/'+now+'_result.csv', encoding = 'utf-8-sig', index = False)"
   ]
  },
  {
   "cell_type": "code",
   "execution_count": null,
   "metadata": {},
   "outputs": [],
   "source": [
    "result = {\n",
    "          '新聞標題': news_title,\n",
    "          '日期時間': dates,\n",
    "          '新聞內容': contents,\n",
    "          '新聞連結': urls,\n",
    "          }\n",
    "result_df = pd.DataFrame(result)\n",
    "now = time.strftime('%Y%m%d%H%M', time.localtime())\n",
    "result_df.to_csv('result/'+now+'_result.csv', encoding = 'utf-8-sig', index = False)"
   ]
  }
 ],
 "metadata": {
  "kernelspec": {
   "display_name": "Python 3",
   "language": "python",
   "name": "python3"
  },
  "language_info": {
   "codemirror_mode": {
    "name": "ipython",
    "version": 3
   },
   "file_extension": ".py",
   "mimetype": "text/x-python",
   "name": "python",
   "nbconvert_exporter": "python",
   "pygments_lexer": "ipython3",
   "version": "3.7.6"
  }
 },
 "nbformat": 4,
 "nbformat_minor": 4
}
